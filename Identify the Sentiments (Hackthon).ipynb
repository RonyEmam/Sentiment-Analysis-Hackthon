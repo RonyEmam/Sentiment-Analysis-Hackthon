{
 "cells": [
  {
   "cell_type": "markdown",
   "id": "b9315815",
   "metadata": {},
   "source": [
    "#  The task is to identify if the tweets have a negative sentiment towards such companies or products.\n",
    "\n",
    "### Understanding the data:\n",
    "\n",
    "- Variables \n",
    "- Data sets\n",
    "- Representation [what data represent]\n",
    "\n",
    "### Understand the domain knoweldge what the Business questions, what's the right type of data and what's the wrong type of data collected."
   ]
  },
  {
   "cell_type": "markdown",
   "id": "ca477579",
   "metadata": {},
   "source": [
    "- Sentiment Analysis considered to be one of the common Natural Langauge Processing NLP main problems that depend on \n",
    "- One of the main concepts used is:\n",
    "-  Regular Expression (RegEx)\n",
    "\n",
    "- Text is the most unstructured form of all the available data. I will include some techniques like lemmatization, stemming, parts of speech tagging and dependency parsing.\n",
    "\n",
    "Techniques:\n",
    "\n",
    "- Tokenization\n",
    "- Text Normalization\n",
    "- Parts-of-Speech Tagging\n",
    "- Dependency Parsing\n"
   ]
  },
  {
   "cell_type": "code",
   "execution_count": 2,
   "id": "c6319fd2",
   "metadata": {},
   "outputs": [],
   "source": [
    "#import the required libraries\n",
    "import pandas as pd\n",
    "import numpy as np\n",
    "import seaborn as sns\n",
    "import matplotlib as plt\n",
    "import re"
   ]
  },
  {
   "cell_type": "code",
   "execution_count": 3,
   "id": "a6ed14d4",
   "metadata": {},
   "outputs": [],
   "source": [
    "#recal the data set\n",
    "df = pd.read_csv('train_2kmZucJ.csv')"
   ]
  },
  {
   "cell_type": "code",
   "execution_count": 4,
   "id": "3ba058c6",
   "metadata": {},
   "outputs": [
    {
     "name": "stdout",
     "output_type": "stream",
     "text": [
      "Shape of the dataset (NO. of rows, No. of columns): (7920, 3)\n"
     ]
    }
   ],
   "source": [
    "#checking the shape of the data\n",
    "print('Shape of the dataset (NO. of rows, No. of columns):', df.shape)"
   ]
  },
  {
   "cell_type": "code",
   "execution_count": 5,
   "id": "79a75af1",
   "metadata": {},
   "outputs": [],
   "source": [
    "df.drop(['id'], axis = 1, inplace =True )"
   ]
  },
  {
   "cell_type": "code",
   "execution_count": 6,
   "id": "6f150cd6",
   "metadata": {},
   "outputs": [
    {
     "name": "stdout",
     "output_type": "stream",
     "text": [
      "label     int64\n",
      "tweet    string\n",
      "dtype: object\n"
     ]
    }
   ],
   "source": [
    "#change the tweet column type to string\n",
    "df = df.astype({'tweet':'string'})\n",
    "print(df.dtypes)"
   ]
  },
  {
   "cell_type": "code",
   "execution_count": 7,
   "id": "b4c72f0f",
   "metadata": {},
   "outputs": [
    {
     "data": {
      "text/html": [
       "<div>\n",
       "<style scoped>\n",
       "    .dataframe tbody tr th:only-of-type {\n",
       "        vertical-align: middle;\n",
       "    }\n",
       "\n",
       "    .dataframe tbody tr th {\n",
       "        vertical-align: top;\n",
       "    }\n",
       "\n",
       "    .dataframe thead th {\n",
       "        text-align: right;\n",
       "    }\n",
       "</style>\n",
       "<table border=\"1\" class=\"dataframe\">\n",
       "  <thead>\n",
       "    <tr style=\"text-align: right;\">\n",
       "      <th></th>\n",
       "      <th>label</th>\n",
       "      <th>tweet</th>\n",
       "    </tr>\n",
       "  </thead>\n",
       "  <tbody>\n",
       "    <tr>\n",
       "      <th>0</th>\n",
       "      <td>0</td>\n",
       "      <td>#fingerprint #Pregnancy Test https://goo.gl/h1...</td>\n",
       "    </tr>\n",
       "    <tr>\n",
       "      <th>1</th>\n",
       "      <td>0</td>\n",
       "      <td>Finally a transparant silicon case ^^ Thanks t...</td>\n",
       "    </tr>\n",
       "    <tr>\n",
       "      <th>2</th>\n",
       "      <td>0</td>\n",
       "      <td>We love this! Would you go? #talk #makememorie...</td>\n",
       "    </tr>\n",
       "  </tbody>\n",
       "</table>\n",
       "</div>"
      ],
      "text/plain": [
       "   label                                              tweet\n",
       "0      0  #fingerprint #Pregnancy Test https://goo.gl/h1...\n",
       "1      0  Finally a transparant silicon case ^^ Thanks t...\n",
       "2      0  We love this! Would you go? #talk #makememorie..."
      ]
     },
     "execution_count": 7,
     "metadata": {},
     "output_type": "execute_result"
    }
   ],
   "source": [
    "df.head(3)"
   ]
  },
  {
   "cell_type": "markdown",
   "id": "d8e64520",
   "metadata": {},
   "source": [
    "### 1 Removing Twitter Handles (@user)"
   ]
  },
  {
   "cell_type": "code",
   "execution_count": 8,
   "id": "50734f68",
   "metadata": {},
   "outputs": [],
   "source": [
    "def remove_users(input_text, pattern):\n",
    "    r = re.findall(pattern, input_text)\n",
    "    for i in r:\n",
    "        input_text = re.sub(i,'', input_text)\n",
    "    return input_text"
   ]
  },
  {
   "cell_type": "code",
   "execution_count": 9,
   "id": "18206926",
   "metadata": {},
   "outputs": [],
   "source": [
    "df['tidy_tweets'] = np.vectorize(remove_users)(df['tweet'], \"@[\\w]*\")"
   ]
  },
  {
   "cell_type": "code",
   "execution_count": 10,
   "id": "88502dbc",
   "metadata": {},
   "outputs": [
    {
     "name": "stdout",
     "output_type": "stream",
     "text": [
      "label           int64\n",
      "tweet          string\n",
      "tidy_tweets    string\n",
      "dtype: object\n"
     ]
    }
   ],
   "source": [
    "df = df.astype({'tidy_tweets':'string'}) # It worked\n",
    "print(df.dtypes)"
   ]
  },
  {
   "cell_type": "markdown",
   "id": "d14495b6",
   "metadata": {},
   "source": [
    "### Remove the URL "
   ]
  },
  {
   "cell_type": "code",
   "execution_count": 11,
   "id": "1234e58f",
   "metadata": {},
   "outputs": [],
   "source": [
    "df['tidy_tweets'] = df['tidy_tweets'].str.replace(r'http\\S+', '', regex=True).str.replace(r'www\\S+', '', regex=True)"
   ]
  },
  {
   "cell_type": "code",
   "execution_count": 12,
   "id": "62895898",
   "metadata": {},
   "outputs": [
    {
     "data": {
      "text/html": [
       "<div>\n",
       "<style scoped>\n",
       "    .dataframe tbody tr th:only-of-type {\n",
       "        vertical-align: middle;\n",
       "    }\n",
       "\n",
       "    .dataframe tbody tr th {\n",
       "        vertical-align: top;\n",
       "    }\n",
       "\n",
       "    .dataframe thead th {\n",
       "        text-align: right;\n",
       "    }\n",
       "</style>\n",
       "<table border=\"1\" class=\"dataframe\">\n",
       "  <thead>\n",
       "    <tr style=\"text-align: right;\">\n",
       "      <th></th>\n",
       "      <th>label</th>\n",
       "      <th>tweet</th>\n",
       "      <th>tidy_tweets</th>\n",
       "    </tr>\n",
       "  </thead>\n",
       "  <tbody>\n",
       "    <tr>\n",
       "      <th>0</th>\n",
       "      <td>0</td>\n",
       "      <td>#fingerprint #Pregnancy Test https://goo.gl/h1...</td>\n",
       "      <td>#fingerprint #Pregnancy Test  #android #apps #...</td>\n",
       "    </tr>\n",
       "    <tr>\n",
       "      <th>1</th>\n",
       "      <td>0</td>\n",
       "      <td>Finally a transparant silicon case ^^ Thanks t...</td>\n",
       "      <td>Finally a transparant silicon case ^^ Thanks t...</td>\n",
       "    </tr>\n",
       "    <tr>\n",
       "      <th>2</th>\n",
       "      <td>0</td>\n",
       "      <td>We love this! Would you go? #talk #makememorie...</td>\n",
       "      <td>We love this! Would you go? #talk #makememorie...</td>\n",
       "    </tr>\n",
       "  </tbody>\n",
       "</table>\n",
       "</div>"
      ],
      "text/plain": [
       "   label                                              tweet  \\\n",
       "0      0  #fingerprint #Pregnancy Test https://goo.gl/h1...   \n",
       "1      0  Finally a transparant silicon case ^^ Thanks t...   \n",
       "2      0  We love this! Would you go? #talk #makememorie...   \n",
       "\n",
       "                                         tidy_tweets  \n",
       "0  #fingerprint #Pregnancy Test  #android #apps #...  \n",
       "1  Finally a transparant silicon case ^^ Thanks t...  \n",
       "2  We love this! Would you go? #talk #makememorie...  "
      ]
     },
     "execution_count": 12,
     "metadata": {},
     "output_type": "execute_result"
    }
   ],
   "source": [
    "df.head(3)"
   ]
  },
  {
   "cell_type": "markdown",
   "id": "2323b4c8",
   "metadata": {},
   "source": [
    "### 2. Removing Punctuations, Numbers, and Special Characters"
   ]
  },
  {
   "cell_type": "code",
   "execution_count": 13,
   "id": "bb25d0f1",
   "metadata": {},
   "outputs": [
    {
     "name": "stderr",
     "output_type": "stream",
     "text": [
      "/tmp/ipykernel_109223/1984675455.py:1: FutureWarning: The default value of regex will change from True to False in a future version.\n",
      "  df['tidy_tweets'] = df['tidy_tweets'].str.replace(\"[^a-zA-Z#]\", \" \")\n"
     ]
    }
   ],
   "source": [
    "df['tidy_tweets'] = df['tidy_tweets'].str.replace(\"[^a-zA-Z#]\", \" \")"
   ]
  },
  {
   "cell_type": "code",
   "execution_count": 14,
   "id": "d46c7386",
   "metadata": {},
   "outputs": [
    {
     "data": {
      "text/html": [
       "<div>\n",
       "<style scoped>\n",
       "    .dataframe tbody tr th:only-of-type {\n",
       "        vertical-align: middle;\n",
       "    }\n",
       "\n",
       "    .dataframe tbody tr th {\n",
       "        vertical-align: top;\n",
       "    }\n",
       "\n",
       "    .dataframe thead th {\n",
       "        text-align: right;\n",
       "    }\n",
       "</style>\n",
       "<table border=\"1\" class=\"dataframe\">\n",
       "  <thead>\n",
       "    <tr style=\"text-align: right;\">\n",
       "      <th></th>\n",
       "      <th>label</th>\n",
       "      <th>tweet</th>\n",
       "      <th>tidy_tweets</th>\n",
       "    </tr>\n",
       "  </thead>\n",
       "  <tbody>\n",
       "    <tr>\n",
       "      <th>0</th>\n",
       "      <td>0</td>\n",
       "      <td>#fingerprint #Pregnancy Test https://goo.gl/h1...</td>\n",
       "      <td>#fingerprint #Pregnancy Test  #android #apps #...</td>\n",
       "    </tr>\n",
       "    <tr>\n",
       "      <th>1</th>\n",
       "      <td>0</td>\n",
       "      <td>Finally a transparant silicon case ^^ Thanks t...</td>\n",
       "      <td>Finally a transparant silicon case    Thanks t...</td>\n",
       "    </tr>\n",
       "    <tr>\n",
       "      <th>2</th>\n",
       "      <td>0</td>\n",
       "      <td>We love this! Would you go? #talk #makememorie...</td>\n",
       "      <td>We love this  Would you go  #talk #makememorie...</td>\n",
       "    </tr>\n",
       "  </tbody>\n",
       "</table>\n",
       "</div>"
      ],
      "text/plain": [
       "   label                                              tweet  \\\n",
       "0      0  #fingerprint #Pregnancy Test https://goo.gl/h1...   \n",
       "1      0  Finally a transparant silicon case ^^ Thanks t...   \n",
       "2      0  We love this! Would you go? #talk #makememorie...   \n",
       "\n",
       "                                         tidy_tweets  \n",
       "0  #fingerprint #Pregnancy Test  #android #apps #...  \n",
       "1  Finally a transparant silicon case    Thanks t...  \n",
       "2  We love this  Would you go  #talk #makememorie...  "
      ]
     },
     "execution_count": 14,
     "metadata": {},
     "output_type": "execute_result"
    }
   ],
   "source": [
    "df.head(3)"
   ]
  },
  {
   "cell_type": "markdown",
   "id": "7581c29b",
   "metadata": {},
   "source": [
    "### 3. Removing Short Words \"check this one as it's not ideal technqiue!\" it has removed the IOS7 - can't - my words"
   ]
  },
  {
   "cell_type": "code",
   "execution_count": 15,
   "id": "b0541e9c",
   "metadata": {},
   "outputs": [],
   "source": [
    "df['tidy_tweets'] = df['tidy_tweets'].apply(lambda x: ' '.join([w for w in x.split() if len(w)>3]))\n",
    "#it removes short words like LOL, lol, hmm, etc."
   ]
  },
  {
   "cell_type": "code",
   "execution_count": 16,
   "id": "ed9f8404",
   "metadata": {},
   "outputs": [
    {
     "data": {
      "text/html": [
       "<div>\n",
       "<style scoped>\n",
       "    .dataframe tbody tr th:only-of-type {\n",
       "        vertical-align: middle;\n",
       "    }\n",
       "\n",
       "    .dataframe tbody tr th {\n",
       "        vertical-align: top;\n",
       "    }\n",
       "\n",
       "    .dataframe thead th {\n",
       "        text-align: right;\n",
       "    }\n",
       "</style>\n",
       "<table border=\"1\" class=\"dataframe\">\n",
       "  <thead>\n",
       "    <tr style=\"text-align: right;\">\n",
       "      <th></th>\n",
       "      <th>label</th>\n",
       "      <th>tweet</th>\n",
       "      <th>tidy_tweets</th>\n",
       "    </tr>\n",
       "  </thead>\n",
       "  <tbody>\n",
       "    <tr>\n",
       "      <th>0</th>\n",
       "      <td>0</td>\n",
       "      <td>#fingerprint #Pregnancy Test https://goo.gl/h1...</td>\n",
       "      <td>#fingerprint #Pregnancy Test #android #apps #b...</td>\n",
       "    </tr>\n",
       "    <tr>\n",
       "      <th>1</th>\n",
       "      <td>0</td>\n",
       "      <td>Finally a transparant silicon case ^^ Thanks t...</td>\n",
       "      <td>Finally transparant silicon case Thanks uncle ...</td>\n",
       "    </tr>\n",
       "    <tr>\n",
       "      <th>2</th>\n",
       "      <td>0</td>\n",
       "      <td>We love this! Would you go? #talk #makememorie...</td>\n",
       "      <td>love this Would #talk #makememories #unplug #r...</td>\n",
       "    </tr>\n",
       "  </tbody>\n",
       "</table>\n",
       "</div>"
      ],
      "text/plain": [
       "   label                                              tweet  \\\n",
       "0      0  #fingerprint #Pregnancy Test https://goo.gl/h1...   \n",
       "1      0  Finally a transparant silicon case ^^ Thanks t...   \n",
       "2      0  We love this! Would you go? #talk #makememorie...   \n",
       "\n",
       "                                         tidy_tweets  \n",
       "0  #fingerprint #Pregnancy Test #android #apps #b...  \n",
       "1  Finally transparant silicon case Thanks uncle ...  \n",
       "2  love this Would #talk #makememories #unplug #r...  "
      ]
     },
     "execution_count": 16,
     "metadata": {},
     "output_type": "execute_result"
    }
   ],
   "source": [
    "df.head(3)"
   ]
  },
  {
   "cell_type": "markdown",
   "id": "817af073",
   "metadata": {},
   "source": [
    "### Remove Hastage symbol from the cleaned text"
   ]
  },
  {
   "cell_type": "code",
   "execution_count": 17,
   "id": "9e210951",
   "metadata": {},
   "outputs": [],
   "source": [
    "df['tidy_tweets'] = df['tidy_tweets'].str.strip(\"#\")\n",
    "df['tidy_tweets'] = df['tidy_tweets'].str.replace(\"_\", \" \").str.replace(\"#\",\" \")"
   ]
  },
  {
   "cell_type": "code",
   "execution_count": 18,
   "id": "041ffb57",
   "metadata": {},
   "outputs": [
    {
     "data": {
      "text/html": [
       "<div>\n",
       "<style scoped>\n",
       "    .dataframe tbody tr th:only-of-type {\n",
       "        vertical-align: middle;\n",
       "    }\n",
       "\n",
       "    .dataframe tbody tr th {\n",
       "        vertical-align: top;\n",
       "    }\n",
       "\n",
       "    .dataframe thead th {\n",
       "        text-align: right;\n",
       "    }\n",
       "</style>\n",
       "<table border=\"1\" class=\"dataframe\">\n",
       "  <thead>\n",
       "    <tr style=\"text-align: right;\">\n",
       "      <th></th>\n",
       "      <th>label</th>\n",
       "      <th>tweet</th>\n",
       "      <th>tidy_tweets</th>\n",
       "    </tr>\n",
       "  </thead>\n",
       "  <tbody>\n",
       "    <tr>\n",
       "      <th>0</th>\n",
       "      <td>0</td>\n",
       "      <td>#fingerprint #Pregnancy Test https://goo.gl/h1...</td>\n",
       "      <td>fingerprint  Pregnancy Test  android  apps  be...</td>\n",
       "    </tr>\n",
       "    <tr>\n",
       "      <th>1</th>\n",
       "      <td>0</td>\n",
       "      <td>Finally a transparant silicon case ^^ Thanks t...</td>\n",
       "      <td>Finally transparant silicon case Thanks uncle ...</td>\n",
       "    </tr>\n",
       "    <tr>\n",
       "      <th>2</th>\n",
       "      <td>0</td>\n",
       "      <td>We love this! Would you go? #talk #makememorie...</td>\n",
       "      <td>love this Would  talk  makememories  unplug  r...</td>\n",
       "    </tr>\n",
       "  </tbody>\n",
       "</table>\n",
       "</div>"
      ],
      "text/plain": [
       "   label                                              tweet  \\\n",
       "0      0  #fingerprint #Pregnancy Test https://goo.gl/h1...   \n",
       "1      0  Finally a transparant silicon case ^^ Thanks t...   \n",
       "2      0  We love this! Would you go? #talk #makememorie...   \n",
       "\n",
       "                                         tidy_tweets  \n",
       "0  fingerprint  Pregnancy Test  android  apps  be...  \n",
       "1  Finally transparant silicon case Thanks uncle ...  \n",
       "2  love this Would  talk  makememories  unplug  r...  "
      ]
     },
     "execution_count": 18,
     "metadata": {},
     "output_type": "execute_result"
    }
   ],
   "source": [
    "df.head(3)"
   ]
  },
  {
   "cell_type": "markdown",
   "id": "749cba84",
   "metadata": {},
   "source": [
    "### make the new cleaned column lowercase"
   ]
  },
  {
   "cell_type": "code",
   "execution_count": 19,
   "id": "e926751a",
   "metadata": {},
   "outputs": [],
   "source": [
    "df['tidy_tweets'] = df['tidy_tweets'].str. lower() "
   ]
  },
  {
   "cell_type": "code",
   "execution_count": 20,
   "id": "3f31b702",
   "metadata": {},
   "outputs": [
    {
     "data": {
      "text/html": [
       "<div>\n",
       "<style scoped>\n",
       "    .dataframe tbody tr th:only-of-type {\n",
       "        vertical-align: middle;\n",
       "    }\n",
       "\n",
       "    .dataframe tbody tr th {\n",
       "        vertical-align: top;\n",
       "    }\n",
       "\n",
       "    .dataframe thead th {\n",
       "        text-align: right;\n",
       "    }\n",
       "</style>\n",
       "<table border=\"1\" class=\"dataframe\">\n",
       "  <thead>\n",
       "    <tr style=\"text-align: right;\">\n",
       "      <th></th>\n",
       "      <th>label</th>\n",
       "      <th>tweet</th>\n",
       "      <th>tidy_tweets</th>\n",
       "    </tr>\n",
       "  </thead>\n",
       "  <tbody>\n",
       "    <tr>\n",
       "      <th>0</th>\n",
       "      <td>0</td>\n",
       "      <td>#fingerprint #Pregnancy Test https://goo.gl/h1...</td>\n",
       "      <td>fingerprint  pregnancy test  android  apps  be...</td>\n",
       "    </tr>\n",
       "    <tr>\n",
       "      <th>1</th>\n",
       "      <td>0</td>\n",
       "      <td>Finally a transparant silicon case ^^ Thanks t...</td>\n",
       "      <td>finally transparant silicon case thanks uncle ...</td>\n",
       "    </tr>\n",
       "    <tr>\n",
       "      <th>2</th>\n",
       "      <td>0</td>\n",
       "      <td>We love this! Would you go? #talk #makememorie...</td>\n",
       "      <td>love this would  talk  makememories  unplug  r...</td>\n",
       "    </tr>\n",
       "  </tbody>\n",
       "</table>\n",
       "</div>"
      ],
      "text/plain": [
       "   label                                              tweet  \\\n",
       "0      0  #fingerprint #Pregnancy Test https://goo.gl/h1...   \n",
       "1      0  Finally a transparant silicon case ^^ Thanks t...   \n",
       "2      0  We love this! Would you go? #talk #makememorie...   \n",
       "\n",
       "                                         tidy_tweets  \n",
       "0  fingerprint  pregnancy test  android  apps  be...  \n",
       "1  finally transparant silicon case thanks uncle ...  \n",
       "2  love this would  talk  makememories  unplug  r...  "
      ]
     },
     "execution_count": 20,
     "metadata": {},
     "output_type": "execute_result"
    }
   ],
   "source": [
    "df.head(3)"
   ]
  },
  {
   "cell_type": "markdown",
   "id": "025a478b",
   "metadata": {},
   "source": [
    "### 4. Tokenization"
   ]
  },
  {
   "cell_type": "code",
   "execution_count": 21,
   "id": "01d4eb33",
   "metadata": {},
   "outputs": [
    {
     "data": {
      "text/plain": [
       "0       [fingerprint, pregnancy, test, android, apps, ...\n",
       "1       [finally, transparant, silicon, case, thanks, ...\n",
       "2       [love, this, would, talk, makememories, unplug...\n",
       "3       [wired, know, george, made, that, iphone, cute...\n",
       "4       [what, amazing, service, apple, even, talk, ab...\n",
       "                              ...                        \n",
       "7915    [live, loud, lol, liveoutloud, selfie, smile, ...\n",
       "7916    [would, like, wish, amazing, make, every, minu...\n",
       "7917    [helping, lovely, year, neighbor, with, ipad, ...\n",
       "7918    [finally, smart, pocket, wifi, stay, connected...\n",
       "7919    [apple, barcelona, apple, store, bcn, barcelon...\n",
       "Name: tidy_tweets, Length: 7920, dtype: object"
      ]
     },
     "execution_count": 21,
     "metadata": {},
     "output_type": "execute_result"
    }
   ],
   "source": [
    "tokenized_tweets = df['tidy_tweets'].apply(lambda x: x.split())\n",
    "tokenized_tweets"
   ]
  },
  {
   "cell_type": "code",
   "execution_count": 22,
   "id": "deed024b",
   "metadata": {},
   "outputs": [
    {
     "data": {
      "text/html": [
       "<div>\n",
       "<style scoped>\n",
       "    .dataframe tbody tr th:only-of-type {\n",
       "        vertical-align: middle;\n",
       "    }\n",
       "\n",
       "    .dataframe tbody tr th {\n",
       "        vertical-align: top;\n",
       "    }\n",
       "\n",
       "    .dataframe thead th {\n",
       "        text-align: right;\n",
       "    }\n",
       "</style>\n",
       "<table border=\"1\" class=\"dataframe\">\n",
       "  <thead>\n",
       "    <tr style=\"text-align: right;\">\n",
       "      <th></th>\n",
       "      <th>label</th>\n",
       "      <th>tweet</th>\n",
       "      <th>tidy_tweets</th>\n",
       "    </tr>\n",
       "  </thead>\n",
       "  <tbody>\n",
       "    <tr>\n",
       "      <th>0</th>\n",
       "      <td>0</td>\n",
       "      <td>#fingerprint #Pregnancy Test https://goo.gl/h1...</td>\n",
       "      <td>fingerprint  pregnancy test  android  apps  be...</td>\n",
       "    </tr>\n",
       "    <tr>\n",
       "      <th>1</th>\n",
       "      <td>0</td>\n",
       "      <td>Finally a transparant silicon case ^^ Thanks t...</td>\n",
       "      <td>finally transparant silicon case thanks uncle ...</td>\n",
       "    </tr>\n",
       "    <tr>\n",
       "      <th>2</th>\n",
       "      <td>0</td>\n",
       "      <td>We love this! Would you go? #talk #makememorie...</td>\n",
       "      <td>love this would  talk  makememories  unplug  r...</td>\n",
       "    </tr>\n",
       "    <tr>\n",
       "      <th>3</th>\n",
       "      <td>0</td>\n",
       "      <td>I'm wired I know I'm George I was made that wa...</td>\n",
       "      <td>wired know george made that  iphone  cute  dav...</td>\n",
       "    </tr>\n",
       "    <tr>\n",
       "      <th>4</th>\n",
       "      <td>1</td>\n",
       "      <td>What amazing service! Apple won't even talk to...</td>\n",
       "      <td>what amazing service apple even talk about que...</td>\n",
       "    </tr>\n",
       "    <tr>\n",
       "      <th>...</th>\n",
       "      <td>...</td>\n",
       "      <td>...</td>\n",
       "      <td>...</td>\n",
       "    </tr>\n",
       "    <tr>\n",
       "      <th>7915</th>\n",
       "      <td>0</td>\n",
       "      <td>Live out loud #lol #liveoutloud #selfie #smile...</td>\n",
       "      <td>live loud  lol  liveoutloud  selfie  smile  so...</td>\n",
       "    </tr>\n",
       "    <tr>\n",
       "      <th>7916</th>\n",
       "      <td>0</td>\n",
       "      <td>We would like to wish you an amazing day! Make...</td>\n",
       "      <td>would like wish amazing make every minute coun...</td>\n",
       "    </tr>\n",
       "    <tr>\n",
       "      <th>7917</th>\n",
       "      <td>0</td>\n",
       "      <td>Helping my lovely 90 year old neighbor with he...</td>\n",
       "      <td>helping lovely year neighbor with ipad this mo...</td>\n",
       "    </tr>\n",
       "    <tr>\n",
       "      <th>7918</th>\n",
       "      <td>0</td>\n",
       "      <td>Finally got my #smart #pocket #wifi stay conne...</td>\n",
       "      <td>finally  smart  pocket  wifi stay connected an...</td>\n",
       "    </tr>\n",
       "    <tr>\n",
       "      <th>7919</th>\n",
       "      <td>0</td>\n",
       "      <td>Apple Barcelona!!! #Apple #Store #BCN #Barcelo...</td>\n",
       "      <td>apple barcelona  apple  store  bcn  barcelona ...</td>\n",
       "    </tr>\n",
       "  </tbody>\n",
       "</table>\n",
       "<p>7920 rows × 3 columns</p>\n",
       "</div>"
      ],
      "text/plain": [
       "      label                                              tweet  \\\n",
       "0         0  #fingerprint #Pregnancy Test https://goo.gl/h1...   \n",
       "1         0  Finally a transparant silicon case ^^ Thanks t...   \n",
       "2         0  We love this! Would you go? #talk #makememorie...   \n",
       "3         0  I'm wired I know I'm George I was made that wa...   \n",
       "4         1  What amazing service! Apple won't even talk to...   \n",
       "...     ...                                                ...   \n",
       "7915      0  Live out loud #lol #liveoutloud #selfie #smile...   \n",
       "7916      0  We would like to wish you an amazing day! Make...   \n",
       "7917      0  Helping my lovely 90 year old neighbor with he...   \n",
       "7918      0  Finally got my #smart #pocket #wifi stay conne...   \n",
       "7919      0  Apple Barcelona!!! #Apple #Store #BCN #Barcelo...   \n",
       "\n",
       "                                            tidy_tweets  \n",
       "0     fingerprint  pregnancy test  android  apps  be...  \n",
       "1     finally transparant silicon case thanks uncle ...  \n",
       "2     love this would  talk  makememories  unplug  r...  \n",
       "3     wired know george made that  iphone  cute  dav...  \n",
       "4     what amazing service apple even talk about que...  \n",
       "...                                                 ...  \n",
       "7915  live loud  lol  liveoutloud  selfie  smile  so...  \n",
       "7916  would like wish amazing make every minute coun...  \n",
       "7917  helping lovely year neighbor with ipad this mo...  \n",
       "7918  finally  smart  pocket  wifi stay connected an...  \n",
       "7919  apple barcelona  apple  store  bcn  barcelona ...  \n",
       "\n",
       "[7920 rows x 3 columns]"
      ]
     },
     "execution_count": 22,
     "metadata": {},
     "output_type": "execute_result"
    }
   ],
   "source": [
    "df"
   ]
  },
  {
   "cell_type": "markdown",
   "id": "22ab6b31",
   "metadata": {},
   "source": [
    "### 5. Stemming\n",
    "\n",
    "* Stemming is a rule-based process of stripping the suffixes (“ing”, “ly”, “es”, “s” etc) from a word. For example, For example – “play”, “player”, “played”, “plays” and “playing” are the different variations of the word – “play”.\n",
    "\n",
    "\n",
    "\n",
    "* I have highlighted the process of stemming but I'm not going with any further as I want for this model to reflect the accurate context of the data. Simply the task is about identifying the hatred/non-hatred tweets but I want to extend the analysis to count the most repeatative words, in order to move my model to identent classification. "
   ]
  },
  {
   "cell_type": "code",
   "execution_count": 23,
   "id": "2f93f161",
   "metadata": {},
   "outputs": [
    {
     "data": {
      "text/plain": [
       "0    [fingerprint, pregnanc, test, android, app, be...\n",
       "1    [final, transpar, silicon, case, thank, uncl, ...\n",
       "2    [love, thi, would, talk, makememori, unplug, r...\n",
       "3    [wire, know, georg, made, that, iphon, cute, d...\n",
       "4    [what, amaz, servic, appl, even, talk, about, ...\n",
       "Name: tidy_tweets, dtype: object"
      ]
     },
     "execution_count": 23,
     "metadata": {},
     "output_type": "execute_result"
    }
   ],
   "source": [
    "from nltk.stem.porter import *\n",
    "stemmer = PorterStemmer()\n",
    "\n",
    "#stemming\n",
    "tokenized_tweets = tokenized_tweets.apply(lambda x: [stemmer.stem(i) for i in x]) \n",
    "tokenized_tweets.head(5)"
   ]
  },
  {
   "cell_type": "markdown",
   "id": "be6cf5d0",
   "metadata": {},
   "source": [
    "Now let’s stitch these tokens back together.\n",
    "\n"
   ]
  },
  {
   "cell_type": "code",
   "execution_count": 24,
   "id": "66df5fe8",
   "metadata": {},
   "outputs": [],
   "source": [
    "for i in range(len(tokenized_tweets)):\n",
    "    tokenized_tweets[i] = ' '.join(tokenized_tweets[i])\n",
    "\n",
    "df['tokenized_tweets'] = tokenized_tweets"
   ]
  },
  {
   "cell_type": "code",
   "execution_count": 25,
   "id": "eccc55f8",
   "metadata": {},
   "outputs": [
    {
     "data": {
      "text/plain": [
       "0       fingerprint pregnanc test android app beauti c...\n",
       "1       final transpar silicon case thank uncl yay son...\n",
       "2       love thi would talk makememori unplug relax ip...\n",
       "3       wire know georg made that iphon cute daventri ...\n",
       "4       what amaz servic appl even talk about question...\n",
       "                              ...                        \n",
       "7915    live loud lol liveoutloud selfi smile soni mus...\n",
       "7916    would like wish amaz make everi minut count tl...\n",
       "7917    help love year neighbor with ipad thi morn jus...\n",
       "7918    final smart pocket wifi stay connect anytim an...\n",
       "7919    appl barcelona appl store bcn barcelona travel...\n",
       "Name: tokenized_tweets, Length: 7920, dtype: object"
      ]
     },
     "execution_count": 25,
     "metadata": {},
     "output_type": "execute_result"
    }
   ],
   "source": [
    "df['tokenized_tweets']"
   ]
  },
  {
   "cell_type": "code",
   "execution_count": 26,
   "id": "8c1e9532",
   "metadata": {},
   "outputs": [
    {
     "data": {
      "image/png": "[encoded data removed]",
      "text/plain": [
       "<Figure size 720x504 with 1 Axes>"
      ]
     },
     "metadata": {
      "needs_background": "light"
     },
     "output_type": "display_data"
    }
   ],
   "source": [
    "all_words = ' '.join([text for text in df['tokenized_tweets']])\n",
    "from wordcloud import WordCloud\n",
    "wordcloud = WordCloud(width=800, height=500, random_state=21, max_font_size=110).generate(all_words)\n",
    "\n",
    "import matplotlib.pyplot as pl\n",
    "\n",
    "pl.figure(figsize=(10, 7))\n",
    "pl.imshow(wordcloud, interpolation=\"bilinear\")\n",
    "pl.axis('off')\n",
    "pl.show()"
   ]
  },
  {
   "cell_type": "markdown",
   "id": "c8c96c1a",
   "metadata": {},
   "source": [
    "## As you can see here the Stemming technique isn't accurate, I prefer to use Lemmaization technique for text data."
   ]
  },
  {
   "cell_type": "markdown",
   "id": "cda33900",
   "metadata": {},
   "source": [
    "## The accurate pattern is Lemmaization"
   ]
  },
  {
   "cell_type": "code",
   "execution_count": 27,
   "id": "3bf9cf7c",
   "metadata": {},
   "outputs": [],
   "source": [
    "from nltk.stem import WordNetLemmatizer\n",
    "\n",
    "wordnet_lem = WordNetLemmatizer()\n",
    "\n",
    "df['lemm'] = df['tidy_tweets'].apply(wordnet_lem.lemmatize)"
   ]
  },
  {
   "cell_type": "markdown",
   "id": "05eaa55e",
   "metadata": {},
   "source": [
    "### Compare between the original text, stemming & lemmaization techniques:"
   ]
  },
  {
   "cell_type": "code",
   "execution_count": 28,
   "id": "d1ca05ee",
   "metadata": {},
   "outputs": [
    {
     "data": {
      "text/plain": [
       "['fingerprint  pregnancy test  android  apps  beautiful  cute  health  igers  iphoneonly  iphonesia  iphone',\n",
       " 'finally transparant silicon case thanks uncle  yay  sony  xperia  sonyexperias',\n",
       " 'love this would  talk  makememories  unplug  relax  iphone  smartphone  wifi  connect']"
      ]
     },
     "execution_count": 28,
     "metadata": {},
     "output_type": "execute_result"
    }
   ],
   "source": [
    "df['tidy_tweets'].head(3).to_list()\n"
   ]
  },
  {
   "cell_type": "code",
   "execution_count": 29,
   "id": "5a6478cf",
   "metadata": {},
   "outputs": [
    {
     "data": {
      "text/plain": [
       "['fingerprint pregnanc test android app beauti cute health iger iphoneonli iphonesia iphon',\n",
       " 'final transpar silicon case thank uncl yay soni xperia sonyexperia',\n",
       " 'love thi would talk makememori unplug relax iphon smartphon wifi connect']"
      ]
     },
     "execution_count": 29,
     "metadata": {},
     "output_type": "execute_result"
    }
   ],
   "source": [
    "df['tokenized_tweets'].head(3).to_list()\n"
   ]
  },
  {
   "cell_type": "code",
   "execution_count": 30,
   "id": "720c6009",
   "metadata": {},
   "outputs": [
    {
     "data": {
      "text/plain": [
       "['fingerprint  pregnancy test  android  apps  beautiful  cute  health  igers  iphoneonly  iphonesia  iphone',\n",
       " 'finally transparant silicon case thanks uncle  yay  sony  xperia  sonyexperias',\n",
       " 'love this would  talk  makememories  unplug  relax  iphone  smartphone  wifi  connect']"
      ]
     },
     "execution_count": 30,
     "metadata": {},
     "output_type": "execute_result"
    }
   ],
   "source": [
    "df['lemm'].head(3).to_list()\n"
   ]
  },
  {
   "cell_type": "markdown",
   "id": "068415d0",
   "metadata": {},
   "source": [
    "## Now I can use hot encoding to count the words, check the tone and visualize the data properly"
   ]
  },
  {
   "cell_type": "markdown",
   "id": "b7ec5608",
   "metadata": {},
   "source": [
    "## Sentiment Analysis using TextBlob:\n"
   ]
  },
  {
   "cell_type": "code",
   "execution_count": 31,
   "id": "307290a4",
   "metadata": {},
   "outputs": [],
   "source": [
    "from textblob import TextBlob\n",
    "# function to calculate subjectivity\n",
    "def getSubjectivity(review):\n",
    "    return TextBlob(review).sentiment.subjectivity\n",
    "    # function to calculate polarity\n",
    "    def getPolarity(review):\n",
    "        return TextBlob(review).sentiment.polarity\n",
    "\n",
    "# function to analyze the reviews\n",
    "def analysis(score):\n",
    "    if score < 0:\n",
    "        return 'Negative'\n",
    "    elif score == 0:\n",
    "        return 'Neutral'\n",
    "    else:\n",
    "        return 'Positive'"
   ]
  },
  {
   "cell_type": "code",
   "execution_count": 32,
   "id": "d20fa4ca",
   "metadata": {},
   "outputs": [],
   "source": [
    "def getPolarity(review):\n",
    "    return TextBlob(review).sentiment.polarity"
   ]
  },
  {
   "cell_type": "markdown",
   "id": "add7d255",
   "metadata": {},
   "source": [
    "!pip install textblob"
   ]
  },
  {
   "cell_type": "code",
   "execution_count": 33,
   "id": "2391b271",
   "metadata": {
    "scrolled": true
   },
   "outputs": [
    {
     "data": {
      "text/html": [
       "<div>\n",
       "<style scoped>\n",
       "    .dataframe tbody tr th:only-of-type {\n",
       "        vertical-align: middle;\n",
       "    }\n",
       "\n",
       "    .dataframe tbody tr th {\n",
       "        vertical-align: top;\n",
       "    }\n",
       "\n",
       "    .dataframe thead th {\n",
       "        text-align: right;\n",
       "    }\n",
       "</style>\n",
       "<table border=\"1\" class=\"dataframe\">\n",
       "  <thead>\n",
       "    <tr style=\"text-align: right;\">\n",
       "      <th></th>\n",
       "      <th>label</th>\n",
       "      <th>tweet</th>\n",
       "      <th>tidy_tweets</th>\n",
       "      <th>tokenized_tweets</th>\n",
       "      <th>lemm</th>\n",
       "      <th>Polarity</th>\n",
       "      <th>Analysis</th>\n",
       "    </tr>\n",
       "  </thead>\n",
       "  <tbody>\n",
       "    <tr>\n",
       "      <th>0</th>\n",
       "      <td>0</td>\n",
       "      <td>#fingerprint #Pregnancy Test https://goo.gl/h1...</td>\n",
       "      <td>fingerprint  pregnancy test  android  apps  be...</td>\n",
       "      <td>fingerprint pregnanc test android app beauti c...</td>\n",
       "      <td>fingerprint  pregnancy test  android  apps  be...</td>\n",
       "      <td>0.675000</td>\n",
       "      <td>Positive</td>\n",
       "    </tr>\n",
       "    <tr>\n",
       "      <th>1</th>\n",
       "      <td>0</td>\n",
       "      <td>Finally a transparant silicon case ^^ Thanks t...</td>\n",
       "      <td>finally transparant silicon case thanks uncle ...</td>\n",
       "      <td>final transpar silicon case thank uncl yay son...</td>\n",
       "      <td>finally transparant silicon case thanks uncle ...</td>\n",
       "      <td>0.100000</td>\n",
       "      <td>Positive</td>\n",
       "    </tr>\n",
       "    <tr>\n",
       "      <th>2</th>\n",
       "      <td>0</td>\n",
       "      <td>We love this! Would you go? #talk #makememorie...</td>\n",
       "      <td>love this would  talk  makememories  unplug  r...</td>\n",
       "      <td>love thi would talk makememori unplug relax ip...</td>\n",
       "      <td>love this would  talk  makememories  unplug  r...</td>\n",
       "      <td>0.500000</td>\n",
       "      <td>Positive</td>\n",
       "    </tr>\n",
       "    <tr>\n",
       "      <th>3</th>\n",
       "      <td>0</td>\n",
       "      <td>I'm wired I know I'm George I was made that wa...</td>\n",
       "      <td>wired know george made that  iphone  cute  dav...</td>\n",
       "      <td>wire know georg made that iphon cute daventri ...</td>\n",
       "      <td>wired know george made that  iphone  cute  dav...</td>\n",
       "      <td>0.500000</td>\n",
       "      <td>Positive</td>\n",
       "    </tr>\n",
       "    <tr>\n",
       "      <th>4</th>\n",
       "      <td>1</td>\n",
       "      <td>What amazing service! Apple won't even talk to...</td>\n",
       "      <td>what amazing service apple even talk about que...</td>\n",
       "      <td>what amaz servic appl even talk about question...</td>\n",
       "      <td>what amazing service apple even talk about que...</td>\n",
       "      <td>-0.100000</td>\n",
       "      <td>Negative</td>\n",
       "    </tr>\n",
       "    <tr>\n",
       "      <th>5</th>\n",
       "      <td>1</td>\n",
       "      <td>iPhone software update fucked up my phone big ...</td>\n",
       "      <td>iphone software update fucked phone time stupi...</td>\n",
       "      <td>iphon softwar updat fuck phone time stupid iphon</td>\n",
       "      <td>iphone software update fucked phone time stupi...</td>\n",
       "      <td>-0.700000</td>\n",
       "      <td>Negative</td>\n",
       "    </tr>\n",
       "    <tr>\n",
       "      <th>6</th>\n",
       "      <td>0</td>\n",
       "      <td>Happy for us .. #instapic #instadaily #us #son...</td>\n",
       "      <td>happy  instapic  instadaily  sony  xperia  xpe...</td>\n",
       "      <td>happi instap instadaili soni xperia xperiaz</td>\n",
       "      <td>happy  instapic  instadaily  sony  xperia  xpe...</td>\n",
       "      <td>0.800000</td>\n",
       "      <td>Positive</td>\n",
       "    </tr>\n",
       "    <tr>\n",
       "      <th>7</th>\n",
       "      <td>0</td>\n",
       "      <td>New Type C charger cable #UK http://www.ebay.c...</td>\n",
       "      <td>type charger cable  bay  amazon  etsy year  ro...</td>\n",
       "      <td>type charger cabl bay amazon etsi year rob cro...</td>\n",
       "      <td>type charger cable  bay  amazon  etsy year  ro...</td>\n",
       "      <td>0.033333</td>\n",
       "      <td>Positive</td>\n",
       "    </tr>\n",
       "    <tr>\n",
       "      <th>8</th>\n",
       "      <td>0</td>\n",
       "      <td>Bout to go shopping again listening to music #...</td>\n",
       "      <td>bout shopping again listening music  iphone  j...</td>\n",
       "      <td>bout shop again listen music iphon justm music...</td>\n",
       "      <td>bout shopping again listening music  iphone  j...</td>\n",
       "      <td>0.000000</td>\n",
       "      <td>Neutral</td>\n",
       "    </tr>\n",
       "    <tr>\n",
       "      <th>9</th>\n",
       "      <td>0</td>\n",
       "      <td>Photo: #fun #selfie #pool #water #sony #camera...</td>\n",
       "      <td>photo  fun  selfie  pool  water  sony  camera ...</td>\n",
       "      <td>photo fun selfi pool water soni camera picofth...</td>\n",
       "      <td>photo  fun  selfie  pool  water  sony  camera ...</td>\n",
       "      <td>0.400000</td>\n",
       "      <td>Positive</td>\n",
       "    </tr>\n",
       "    <tr>\n",
       "      <th>10</th>\n",
       "      <td>1</td>\n",
       "      <td>hey #apple when you make a new ipod dont make ...</td>\n",
       "      <td>apple when make ipod dont make color inches th...</td>\n",
       "      <td>appl when make ipod dont make color inch thinn...</td>\n",
       "      <td>apple when make ipod dont make color inches th...</td>\n",
       "      <td>0.000000</td>\n",
       "      <td>Neutral</td>\n",
       "    </tr>\n",
       "    <tr>\n",
       "      <th>11</th>\n",
       "      <td>1</td>\n",
       "      <td>Ha! Not heavy machinery but it does what I nee...</td>\n",
       "      <td>heavy machinery does what need really dropped ...</td>\n",
       "      <td>heavi machineri doe what need realli drop ball...</td>\n",
       "      <td>heavy machinery does what need really dropped ...</td>\n",
       "      <td>0.000000</td>\n",
       "      <td>Neutral</td>\n",
       "    </tr>\n",
       "    <tr>\n",
       "      <th>12</th>\n",
       "      <td>1</td>\n",
       "      <td>Contemplating giving in to the iPhone bandwago...</td>\n",
       "      <td>contemplating giving iphone bandwagon simply b...</td>\n",
       "      <td>contempl give iphon bandwagon simpli becaus ce...</td>\n",
       "      <td>contemplating giving iphone bandwagon simply b...</td>\n",
       "      <td>-0.300000</td>\n",
       "      <td>Negative</td>\n",
       "    </tr>\n",
       "    <tr>\n",
       "      <th>13</th>\n",
       "      <td>0</td>\n",
       "      <td>I just made another crazy purchase lol my theo...</td>\n",
       "      <td>just made another crazy purchase theory work h...</td>\n",
       "      <td>just made anoth crazi purchas theori work hard...</td>\n",
       "      <td>just made another crazy purchase theory work h...</td>\n",
       "      <td>-0.394444</td>\n",
       "      <td>Negative</td>\n",
       "    </tr>\n",
       "    <tr>\n",
       "      <th>14</th>\n",
       "      <td>1</td>\n",
       "      <td>@shaqlockholmes @sam_louise1991 the battery is...</td>\n",
       "      <td>battery painful charge overnight lunchtime bat...</td>\n",
       "      <td>batteri pain charg overnight lunchtim batteri ...</td>\n",
       "      <td>battery painful charge overnight lunchtime bat...</td>\n",
       "      <td>-0.450000</td>\n",
       "      <td>Negative</td>\n",
       "    </tr>\n",
       "    <tr>\n",
       "      <th>15</th>\n",
       "      <td>0</td>\n",
       "      <td>From #DeepEllum towards #downtown #Dallas. #Bi...</td>\n",
       "      <td>from  deepellum towards  downtown  dallas  big...</td>\n",
       "      <td>from deepellum toward downtown dalla bigd satu...</td>\n",
       "      <td>from  deepellum towards  downtown  dallas  big...</td>\n",
       "      <td>0.000000</td>\n",
       "      <td>Neutral</td>\n",
       "    </tr>\n",
       "    <tr>\n",
       "      <th>16</th>\n",
       "      <td>0</td>\n",
       "      <td>Like and Share if you want this 3D Phone Case ...</td>\n",
       "      <td>like share want this phone case iphone  iphone...</td>\n",
       "      <td>like share want thi phone case iphon iphon twi...</td>\n",
       "      <td>like share want this phone case iphone  iphone...</td>\n",
       "      <td>0.000000</td>\n",
       "      <td>Neutral</td>\n",
       "    </tr>\n",
       "    <tr>\n",
       "      <th>17</th>\n",
       "      <td>0</td>\n",
       "      <td>Go crazy !! #iphonesia, #iphone, #instagood, #...</td>\n",
       "      <td>crazy  iphonesia  iphone  instagood  instagram...</td>\n",
       "      <td>crazi iphonesia iphon instagood instagram phot...</td>\n",
       "      <td>crazy  iphonesia  iphone  instagood  instagram...</td>\n",
       "      <td>-0.600000</td>\n",
       "      <td>Negative</td>\n",
       "    </tr>\n",
       "    <tr>\n",
       "      <th>18</th>\n",
       "      <td>1</td>\n",
       "      <td>The reason I don't have one. #iphone #suck #ap...</td>\n",
       "      <td>reason have  iphone  suck  apple  truth  truth...</td>\n",
       "      <td>reason have iphon suck appl truth truthbetold ...</td>\n",
       "      <td>reason have  iphone  suck  apple  truth  truth...</td>\n",
       "      <td>0.000000</td>\n",
       "      <td>Neutral</td>\n",
       "    </tr>\n",
       "    <tr>\n",
       "      <th>19</th>\n",
       "      <td>1</td>\n",
       "      <td>How is the apple store gunna be out of 5C scre...</td>\n",
       "      <td>apple store gunna screens monday fucking apple...</td>\n",
       "      <td>appl store gunna screen monday fuck appl store...</td>\n",
       "      <td>apple store gunna screens monday fucking apple...</td>\n",
       "      <td>-0.600000</td>\n",
       "      <td>Negative</td>\n",
       "    </tr>\n",
       "    <tr>\n",
       "      <th>20</th>\n",
       "      <td>0</td>\n",
       "      <td>#Apple #Art #Easter #Dear #Friends If you woul...</td>\n",
       "      <td>apple  art  easter  dear  friends would like p...</td>\n",
       "      <td>appl art easter dear friend would like publish...</td>\n",
       "      <td>apple  art  easter  dear  friends would like p...</td>\n",
       "      <td>0.000000</td>\n",
       "      <td>Neutral</td>\n",
       "    </tr>\n",
       "    <tr>\n",
       "      <th>21</th>\n",
       "      <td>0</td>\n",
       "      <td>Excuse me, waiter?... There seems to be a pie ...</td>\n",
       "      <td>excuse waiter there seems soup  wife  bake  ap...</td>\n",
       "      <td>excus waiter there seem soup wife bake appl pi...</td>\n",
       "      <td>excuse waiter there seems soup  wife  bake  ap...</td>\n",
       "      <td>-0.050000</td>\n",
       "      <td>Negative</td>\n",
       "    </tr>\n",
       "    <tr>\n",
       "      <th>22</th>\n",
       "      <td>1</td>\n",
       "      <td>I've had this new ipod for four days? And this...</td>\n",
       "      <td>this ipod four days this button back broke acc...</td>\n",
       "      <td>thi ipod four day thi button back broke accide...</td>\n",
       "      <td>this ipod four days this button back broke acc...</td>\n",
       "      <td>0.000000</td>\n",
       "      <td>Neutral</td>\n",
       "    </tr>\n",
       "    <tr>\n",
       "      <th>23</th>\n",
       "      <td>1</td>\n",
       "      <td>when your iPhone screen goes completely black ...</td>\n",
       "      <td>when your iphone screen goes completely black ...</td>\n",
       "      <td>when your iphon screen goe complet black keep ...</td>\n",
       "      <td>when your iphone screen goes completely black ...</td>\n",
       "      <td>-0.383333</td>\n",
       "      <td>Negative</td>\n",
       "    </tr>\n",
       "    <tr>\n",
       "      <th>24</th>\n",
       "      <td>0</td>\n",
       "      <td>It's time for new wallpapers #phone #wallpaper...</td>\n",
       "      <td>time wallpapers  phone  wallpapers  wall  scre...</td>\n",
       "      <td>time wallpap phone wallpap wall screen galaxi ...</td>\n",
       "      <td>time wallpapers  phone  wallpapers  wall  scre...</td>\n",
       "      <td>0.000000</td>\n",
       "      <td>Neutral</td>\n",
       "    </tr>\n",
       "    <tr>\n",
       "      <th>25</th>\n",
       "      <td>0</td>\n",
       "      <td>1.05 billion for 3 patents where there is prio...</td>\n",
       "      <td>billion patents where there prior millions eac...</td>\n",
       "      <td>billion patent where there prior million each ...</td>\n",
       "      <td>billion patents where there prior millions eac...</td>\n",
       "      <td>0.100000</td>\n",
       "      <td>Positive</td>\n",
       "    </tr>\n",
       "    <tr>\n",
       "      <th>26</th>\n",
       "      <td>1</td>\n",
       "      <td>$&amp;@*# my ipod is all messed up and i haven't d...</td>\n",
       "      <td>ipod messed haven done nothing  myloss  apple</td>\n",
       "      <td>ipod mess haven done noth myloss appl</td>\n",
       "      <td>ipod messed haven done nothing  myloss  apple</td>\n",
       "      <td>0.000000</td>\n",
       "      <td>Neutral</td>\n",
       "    </tr>\n",
       "    <tr>\n",
       "      <th>27</th>\n",
       "      <td>1</td>\n",
       "      <td>My ipod touch is frozen on the apple logo when...</td>\n",
       "      <td>ipod touch frozen apple logo when starts lose ...</td>\n",
       "      <td>ipod touch frozen appl logo when start lose de...</td>\n",
       "      <td>ipod touch frozen apple logo when starts lose ...</td>\n",
       "      <td>0.000000</td>\n",
       "      <td>Neutral</td>\n",
       "    </tr>\n",
       "    <tr>\n",
       "      <th>28</th>\n",
       "      <td>0</td>\n",
       "      <td>do love a new phone case! #flower #green #diam...</td>\n",
       "      <td>love phone case  flower  green  diamond  pearl...</td>\n",
       "      <td>love phone case flower green diamond pearl cut...</td>\n",
       "      <td>love phone case  flower  green  diamond  pearl...</td>\n",
       "      <td>0.234091</td>\n",
       "      <td>Positive</td>\n",
       "    </tr>\n",
       "    <tr>\n",
       "      <th>29</th>\n",
       "      <td>0</td>\n",
       "      <td>Must watch #youtube #subscribe #daily #vlog #t...</td>\n",
       "      <td>must watch  youtube  subscribe  daily  vlog  t...</td>\n",
       "      <td>must watch youtub subscrib daili vlog twitch g...</td>\n",
       "      <td>must watch  youtube  subscribe  daily  vlog  t...</td>\n",
       "      <td>0.150000</td>\n",
       "      <td>Positive</td>\n",
       "    </tr>\n",
       "  </tbody>\n",
       "</table>\n",
       "</div>"
      ],
      "text/plain": [
       "    label                                              tweet  \\\n",
       "0       0  #fingerprint #Pregnancy Test https://goo.gl/h1...   \n",
       "1       0  Finally a transparant silicon case ^^ Thanks t...   \n",
       "2       0  We love this! Would you go? #talk #makememorie...   \n",
       "3       0  I'm wired I know I'm George I was made that wa...   \n",
       "4       1  What amazing service! Apple won't even talk to...   \n",
       "5       1  iPhone software update fucked up my phone big ...   \n",
       "6       0  Happy for us .. #instapic #instadaily #us #son...   \n",
       "7       0  New Type C charger cable #UK http://www.ebay.c...   \n",
       "8       0  Bout to go shopping again listening to music #...   \n",
       "9       0  Photo: #fun #selfie #pool #water #sony #camera...   \n",
       "10      1  hey #apple when you make a new ipod dont make ...   \n",
       "11      1  Ha! Not heavy machinery but it does what I nee...   \n",
       "12      1  Contemplating giving in to the iPhone bandwago...   \n",
       "13      0  I just made another crazy purchase lol my theo...   \n",
       "14      1  @shaqlockholmes @sam_louise1991 the battery is...   \n",
       "15      0  From #DeepEllum towards #downtown #Dallas. #Bi...   \n",
       "16      0  Like and Share if you want this 3D Phone Case ...   \n",
       "17      0  Go crazy !! #iphonesia, #iphone, #instagood, #...   \n",
       "18      1  The reason I don't have one. #iphone #suck #ap...   \n",
       "19      1  How is the apple store gunna be out of 5C scre...   \n",
       "20      0  #Apple #Art #Easter #Dear #Friends If you woul...   \n",
       "21      0  Excuse me, waiter?... There seems to be a pie ...   \n",
       "22      1  I've had this new ipod for four days? And this...   \n",
       "23      1  when your iPhone screen goes completely black ...   \n",
       "24      0  It's time for new wallpapers #phone #wallpaper...   \n",
       "25      0  1.05 billion for 3 patents where there is prio...   \n",
       "26      1  $&@*# my ipod is all messed up and i haven't d...   \n",
       "27      1  My ipod touch is frozen on the apple logo when...   \n",
       "28      0  do love a new phone case! #flower #green #diam...   \n",
       "29      0  Must watch #youtube #subscribe #daily #vlog #t...   \n",
       "\n",
       "                                          tidy_tweets  \\\n",
       "0   fingerprint  pregnancy test  android  apps  be...   \n",
       "1   finally transparant silicon case thanks uncle ...   \n",
       "2   love this would  talk  makememories  unplug  r...   \n",
       "3   wired know george made that  iphone  cute  dav...   \n",
       "4   what amazing service apple even talk about que...   \n",
       "5   iphone software update fucked phone time stupi...   \n",
       "6   happy  instapic  instadaily  sony  xperia  xpe...   \n",
       "7   type charger cable  bay  amazon  etsy year  ro...   \n",
       "8   bout shopping again listening music  iphone  j...   \n",
       "9   photo  fun  selfie  pool  water  sony  camera ...   \n",
       "10  apple when make ipod dont make color inches th...   \n",
       "11  heavy machinery does what need really dropped ...   \n",
       "12  contemplating giving iphone bandwagon simply b...   \n",
       "13  just made another crazy purchase theory work h...   \n",
       "14  battery painful charge overnight lunchtime bat...   \n",
       "15  from  deepellum towards  downtown  dallas  big...   \n",
       "16  like share want this phone case iphone  iphone...   \n",
       "17  crazy  iphonesia  iphone  instagood  instagram...   \n",
       "18  reason have  iphone  suck  apple  truth  truth...   \n",
       "19  apple store gunna screens monday fucking apple...   \n",
       "20  apple  art  easter  dear  friends would like p...   \n",
       "21  excuse waiter there seems soup  wife  bake  ap...   \n",
       "22  this ipod four days this button back broke acc...   \n",
       "23  when your iphone screen goes completely black ...   \n",
       "24  time wallpapers  phone  wallpapers  wall  scre...   \n",
       "25  billion patents where there prior millions eac...   \n",
       "26      ipod messed haven done nothing  myloss  apple   \n",
       "27  ipod touch frozen apple logo when starts lose ...   \n",
       "28  love phone case  flower  green  diamond  pearl...   \n",
       "29  must watch  youtube  subscribe  daily  vlog  t...   \n",
       "\n",
       "                                     tokenized_tweets  \\\n",
       "0   fingerprint pregnanc test android app beauti c...   \n",
       "1   final transpar silicon case thank uncl yay son...   \n",
       "2   love thi would talk makememori unplug relax ip...   \n",
       "3   wire know georg made that iphon cute daventri ...   \n",
       "4   what amaz servic appl even talk about question...   \n",
       "5    iphon softwar updat fuck phone time stupid iphon   \n",
       "6         happi instap instadaili soni xperia xperiaz   \n",
       "7   type charger cabl bay amazon etsi year rob cro...   \n",
       "8   bout shop again listen music iphon justm music...   \n",
       "9   photo fun selfi pool water soni camera picofth...   \n",
       "10  appl when make ipod dont make color inch thinn...   \n",
       "11  heavi machineri doe what need realli drop ball...   \n",
       "12  contempl give iphon bandwagon simpli becaus ce...   \n",
       "13  just made anoth crazi purchas theori work hard...   \n",
       "14  batteri pain charg overnight lunchtim batteri ...   \n",
       "15  from deepellum toward downtown dalla bigd satu...   \n",
       "16  like share want thi phone case iphon iphon twi...   \n",
       "17  crazi iphonesia iphon instagood instagram phot...   \n",
       "18  reason have iphon suck appl truth truthbetold ...   \n",
       "19  appl store gunna screen monday fuck appl store...   \n",
       "20  appl art easter dear friend would like publish...   \n",
       "21  excus waiter there seem soup wife bake appl pi...   \n",
       "22  thi ipod four day thi button back broke accide...   \n",
       "23  when your iphon screen goe complet black keep ...   \n",
       "24  time wallpap phone wallpap wall screen galaxi ...   \n",
       "25  billion patent where there prior million each ...   \n",
       "26              ipod mess haven done noth myloss appl   \n",
       "27  ipod touch frozen appl logo when start lose de...   \n",
       "28  love phone case flower green diamond pearl cut...   \n",
       "29  must watch youtub subscrib daili vlog twitch g...   \n",
       "\n",
       "                                                 lemm  Polarity  Analysis  \n",
       "0   fingerprint  pregnancy test  android  apps  be...  0.675000  Positive  \n",
       "1   finally transparant silicon case thanks uncle ...  0.100000  Positive  \n",
       "2   love this would  talk  makememories  unplug  r...  0.500000  Positive  \n",
       "3   wired know george made that  iphone  cute  dav...  0.500000  Positive  \n",
       "4   what amazing service apple even talk about que... -0.100000  Negative  \n",
       "5   iphone software update fucked phone time stupi... -0.700000  Negative  \n",
       "6   happy  instapic  instadaily  sony  xperia  xpe...  0.800000  Positive  \n",
       "7   type charger cable  bay  amazon  etsy year  ro...  0.033333  Positive  \n",
       "8   bout shopping again listening music  iphone  j...  0.000000   Neutral  \n",
       "9   photo  fun  selfie  pool  water  sony  camera ...  0.400000  Positive  \n",
       "10  apple when make ipod dont make color inches th...  0.000000   Neutral  \n",
       "11  heavy machinery does what need really dropped ...  0.000000   Neutral  \n",
       "12  contemplating giving iphone bandwagon simply b... -0.300000  Negative  \n",
       "13  just made another crazy purchase theory work h... -0.394444  Negative  \n",
       "14  battery painful charge overnight lunchtime bat... -0.450000  Negative  \n",
       "15  from  deepellum towards  downtown  dallas  big...  0.000000   Neutral  \n",
       "16  like share want this phone case iphone  iphone...  0.000000   Neutral  \n",
       "17  crazy  iphonesia  iphone  instagood  instagram... -0.600000  Negative  \n",
       "18  reason have  iphone  suck  apple  truth  truth...  0.000000   Neutral  \n",
       "19  apple store gunna screens monday fucking apple... -0.600000  Negative  \n",
       "20  apple  art  easter  dear  friends would like p...  0.000000   Neutral  \n",
       "21  excuse waiter there seems soup  wife  bake  ap... -0.050000  Negative  \n",
       "22  this ipod four days this button back broke acc...  0.000000   Neutral  \n",
       "23  when your iphone screen goes completely black ... -0.383333  Negative  \n",
       "24  time wallpapers  phone  wallpapers  wall  scre...  0.000000   Neutral  \n",
       "25  billion patents where there prior millions eac...  0.100000  Positive  \n",
       "26      ipod messed haven done nothing  myloss  apple  0.000000   Neutral  \n",
       "27  ipod touch frozen apple logo when starts lose ...  0.000000   Neutral  \n",
       "28  love phone case  flower  green  diamond  pearl...  0.234091  Positive  \n",
       "29  must watch  youtube  subscribe  daily  vlog  t...  0.150000  Positive  "
      ]
     },
     "execution_count": 33,
     "metadata": {},
     "output_type": "execute_result"
    }
   ],
   "source": [
    "# fin_data['Subjectivity'] = fin_data['Lemma'].apply(getSubjectivity) \n",
    "df['Polarity'] = df['lemm'].apply(getPolarity) \n",
    "df['Analysis'] = df['Polarity'].apply(analysis)\n",
    "df.head(30)"
   ]
  },
  {
   "cell_type": "code",
   "execution_count": 34,
   "id": "ecf0ab67",
   "metadata": {},
   "outputs": [
    {
     "data": {
      "text/plain": [
       "Positive    3912\n",
       "Neutral     2671\n",
       "Negative    1337\n",
       "Name: Analysis, dtype: int64"
      ]
     },
     "execution_count": 34,
     "metadata": {},
     "output_type": "execute_result"
    }
   ],
   "source": [
    "tb_counts = df.Analysis.value_counts()\n",
    "\n",
    "tb_counts"
   ]
  },
  {
   "cell_type": "code",
   "execution_count": null,
   "id": "3dd093bf",
   "metadata": {},
   "outputs": [],
   "source": []
  },
  {
   "cell_type": "code",
   "execution_count": null,
   "id": "40b19399",
   "metadata": {},
   "outputs": [],
   "source": []
  },
  {
   "cell_type": "code",
   "execution_count": null,
   "id": "ebf9d34b",
   "metadata": {},
   "outputs": [],
   "source": []
  },
  {
   "cell_type": "code",
   "execution_count": null,
   "id": "cdc21cdb",
   "metadata": {},
   "outputs": [],
   "source": []
  },
  {
   "cell_type": "markdown",
   "id": "2ef65e21",
   "metadata": {},
   "source": [
    "# Evaluation Metric\n",
    "\n",
    "* The metric used for evaluating the performance of classification model would be weighted F1-Score."
   ]
  },
  {
   "cell_type": "markdown",
   "id": "6ef5600f",
   "metadata": {},
   "source": [
    "### References:\n",
    "\n",
    "https://www.analyticsvidhya.com/blog/2021/06/rule-based-sentiment-analysis-in-python/\n",
    "\n",
    "https://www.kirenz.com/post/2021-12-11-text-mining-and-sentiment-analysis-with-nltk-and-pandas-in-python/text-mining-and-sentiment-analysis-with-nltk-and-pandas-in-python/\n",
    "\n",
    "https://www.pluralsight.com/guides/building-a-twitter-sentiment-analysis-in-python\n",
    "\n",
    "https://stackoverflow.com/questions/28121682/quickest-way-to-make-a-get-dummies-type-dataframe-from-a-column-with-a-multiple"
   ]
  },
  {
   "cell_type": "code",
   "execution_count": null,
   "id": "6ef9f32c",
   "metadata": {},
   "outputs": [],
   "source": []
  }
 ],
 "metadata": {
  "kernelspec": {
   "display_name": "Python 3 (ipykernel)",
   "language": "python",
   "name": "python3"
  },
  "language_info": {
   "codemirror_mode": {
    "name": "ipython",
    "version": 3
   },
   "file_extension": ".py",
   "mimetype": "text/x-python",
   "name": "python",
   "nbconvert_exporter": "python",
   "pygments_lexer": "ipython3",
   "version": "3.8.10"
  }
 },
 "nbformat": 4,
 "nbformat_minor": 5
}
